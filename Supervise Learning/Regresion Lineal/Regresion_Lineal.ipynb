{
 "metadata": {
  "language_info": {
   "codemirror_mode": {
    "name": "ipython",
    "version": 3
   },
   "file_extension": ".py",
   "mimetype": "text/x-python",
   "name": "python",
   "nbconvert_exporter": "python",
   "pygments_lexer": "ipython3",
   "version": 3
  },
  "orig_nbformat": 2,
  "kernelspec": {
   "name": "python_defaultSpec_1595971297737",
   "display_name": "Python 3.7.6 64-bit"
  }
 },
 "nbformat": 4,
 "nbformat_minor": 2,
 "cells": [
  {
   "cell_type": "code",
   "execution_count": 18,
   "metadata": {},
   "outputs": [],
   "source": [
    "import pandas as pd\n",
    "from sklearn.datasets import load_boston\n",
    "from sklearn.model_selection import train_test_split\n",
    "from sklearn.linear_model import LinearRegression\n",
    "from sklearn.metrics import mean_squared_error"
   ]
  },
  {
   "cell_type": "code",
   "execution_count": 19,
   "metadata": {
    "tags": []
   },
   "outputs": [
    {
     "output_type": "stream",
     "name": "stdout",
     "text": "(506, 13) (506,)\n"
    }
   ],
   "source": [
    "boston = load_boston()\n",
    "#Description\n",
    "# print(boston.DESCR)\n",
    "#Get X,Y\n",
    "x = boston.data\n",
    "y = boston.target\n",
    "print(x.shape, y.shape)"
   ]
  },
  {
   "cell_type": "code",
   "execution_count": 20,
   "metadata": {},
   "outputs": [],
   "source": [
    "#Training ,testing data\n",
    "x_train, x_test, y_train, y_test = train_test_split(x, y, test_size=0.30, random_state = 0)"
   ]
  },
  {
   "cell_type": "code",
   "execution_count": 21,
   "metadata": {
    "tags": []
   },
   "outputs": [
    {
     "output_type": "stream",
     "name": "stdout",
     "text": "w slope:[-1.21310401e-01  4.44664254e-02  1.13416945e-02  2.51124642e+00\n -1.62312529e+01  3.85906801e+00 -9.98516565e-03 -1.50026956e+00\n  2.42143466e-01 -1.10716124e-02 -1.01775264e+00  6.81446545e-03\n -4.86738066e-01]\nb offset:37.937107741831994\n"
    }
   ],
   "source": [
    "lr = LinearRegression()\n",
    "lr.fit(x_train, y_train) #Entrenar algoritmo\n",
    "\n",
    "print('w slope:{}'.format(lr.coef_)) \n",
    "print('b offset:{}'.format(lr.intercept_))"
   ]
  },
  {
   "cell_type": "code",
   "execution_count": 22,
   "metadata": {
    "tags": []
   },
   "outputs": [
    {
     "output_type": "stream",
     "name": "stdout",
     "text": "Training score 0.76\nTest score 0.67\n"
    }
   ],
   "source": [
    "#Prediction\n",
    "y_predict = lr.predict(x_test)\n",
    "# y_predict\n",
    "#Mean Squared Error\n",
    "J_mse = mean_squared_error(y_predict, y_test)\n",
    "#R2\n",
    "print('Training score {:.2f}'.format(lr.score(x_train, y_train)))\n",
    "print('Test score {:.2f}'.format(lr.score(x_test, y_test)))"
   ]
  },
  {
   "cell_type": "code",
   "execution_count": null,
   "metadata": {},
   "outputs": [],
   "source": []
  }
 ]
}